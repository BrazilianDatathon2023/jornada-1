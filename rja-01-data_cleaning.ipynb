{
 "cells": [
  {
   "attachments": {},
   "cell_type": "markdown",
   "metadata": {},
   "source": [
    "# Data cleaning"
   ]
  },
  {
   "cell_type": "code",
   "execution_count": 1,
   "metadata": {},
   "outputs": [],
   "source": [
    "import pandas as pd\n",
    "import numpy as np\n",
    "import glob"
   ]
  },
  {
   "attachments": {},
   "cell_type": "markdown",
   "metadata": {},
   "source": [
    "## 1 - Data acquisition"
   ]
  },
  {
   "attachments": {},
   "cell_type": "markdown",
   "metadata": {},
   "source": [
    "### 1.1 - Data cleaning pipeline configuration"
   ]
  },
  {
   "cell_type": "code",
   "execution_count": 2,
   "metadata": {},
   "outputs": [],
   "source": [
    "def adolescent_mom(x):\n",
    "    if x<18: return 1\n",
    "    if x>18: return 0\n",
    "    else: return np.nan\n",
    "def premature(x):\n",
    "    if x in [1, 2, 3, 4]: return 1\n",
    "    if x in [5, 6]: return 0\n",
    "    else: return np.nan"
   ]
  },
  {
   "cell_type": "code",
   "execution_count": 3,
   "metadata": {},
   "outputs": [],
   "source": [
    "columns = [\n",
    "    \"GESTACAO\", \"LOCNASC\",\n",
    "    \"IDADEMAE\", \"ESTCIVMAE\", \"ESCMAE\", \"QTDFILVIVO\",\n",
    "    \"QTDFILMORT\", \"CODMUNRES\", \"GRAVIDEZ\", \"PARTO\",\n",
    "    \"CONSULTAS\", \"SEXO\",\n",
    "    \"IDANOMAL\",\n",
    "    \"RACACORMAE\", \"IDADEPAI\", \"SEMAGESTAC\", \"TPAPRESENT\",\n",
    "    \"STTRABPART\"\n",
    "]"
   ]
  },
  {
   "cell_type": "code",
   "execution_count": 8,
   "metadata": {},
   "outputs": [],
   "source": [
    "def clean_data(raw_data):\n",
    "    cleaned_data = (\n",
    "        raw_data\n",
    "        .assign(\n",
    "            premature = lambda df: (\n",
    "                df[\"GESTACAO\"].apply(premature)\n",
    "            ),\n",
    "            adolescent_mom = lambda df: (\n",
    "                df[\"IDADEMAE\"].apply(adolescent_mom)\n",
    "            ),\n",
    "            place_of_birth = lambda df: (\n",
    "                df[\"LOCNASC\"]\n",
    "                .replace({\n",
    "                    9:np.nan,\n",
    "                    1:\"hospital\", \n",
    "                    2:\"another_health_est\",\n",
    "                    3:\"home\",\n",
    "                    4:\"others\"\n",
    "                })\n",
    "            ),\n",
    "            civil_sate_mom = lambda df: (\n",
    "                df[\"ESTCIVMAE\"]\n",
    "                .replace({\n",
    "                    1:\"single\", \n",
    "                    2:\"married\",\n",
    "                    3:\"widow\",\n",
    "                    4:\"divorced\",\n",
    "                    5:\"union\",\n",
    "                    9:np.nan \n",
    "                })\n",
    "            ),\n",
    "            mom_schooling = lambda df: (\n",
    "                df[\"ESCMAE\"]\n",
    "                .replace({ \n",
    "                    1:\"none\",\n",
    "                    2:\"1_to_3_years\",\n",
    "                    3:\"4_to_7_years\",\n",
    "                    4:\"8_to_11_years\",\n",
    "                    5:\"12_more_years\",\n",
    "                    9:np.nan\n",
    "                })\n",
    "            ),\n",
    "            pregnancy = lambda df: (\n",
    "                df[\"GRAVIDEZ\"]\n",
    "                .replace({\n",
    "                    1:\"unique\", \n",
    "                    2:\"pair\",\n",
    "                    3:\"triple_more\",\n",
    "                    9:np.nan                    \n",
    "                })\n",
    "            ),\n",
    "            childbirth = lambda df: (\n",
    "                df[\"PARTO\"]\n",
    "                .replace({\n",
    "                    1:\"vaginal\",\n",
    "                    2:\"cesarean\",\n",
    "                    9:np.nan\n",
    "                })\n",
    "            ),\n",
    "            prenatal_appointments = lambda df: (\n",
    "                df[\"CONSULTAS\"]\n",
    "                .replace({\n",
    "                    1:\"0\",\n",
    "                    2:\"1_to_3\",\n",
    "                    3:\"4_to_6\",\n",
    "                    4:\"7_more\",\n",
    "                    9:np.nan                    \n",
    "                })\n",
    "            ),\n",
    "            sex = lambda df: (\n",
    "                df[\"SEXO\"]\n",
    "                .replace({\n",
    "                    0:np.nan,\n",
    "                    1:\"masculine\",\n",
    "                    2:\"feminine\"\n",
    "                })\n",
    "            ),\n",
    "            anomaly = lambda df: (\n",
    "                df[\"IDANOMAL\"]\n",
    "                .replace({\n",
    "                    9:np.nan,\n",
    "                    1:\"yes\",\n",
    "                    2:\"no\"\n",
    "                })\n",
    "            ),\n",
    "            mom_school_level = lambda df: (\n",
    "                df[\"ESCMAE\"]\n",
    "                .replace({\n",
    "                    0:\"none\",\n",
    "                    1:\"fundamental_i\",\n",
    "                    2:\"fundamental_ii\",\n",
    "                    3:\"medium\",\n",
    "                    4:\"unfinished_superior\",\n",
    "                    5:\"finished_superior\",\n",
    "                    9:np.nan\n",
    "                })\n",
    "            ),\n",
    "            mom_race = lambda df: (\n",
    "                df[\"RACACORMAE\"]\n",
    "                .replace({\n",
    "                    1:\"white\",\n",
    "                    2:\"black\",\n",
    "                    3:\"yellow\",\n",
    "                    4:\"brown\",\n",
    "                    5:\"indigenous\"\n",
    "                })\n",
    "            ),\n",
    "            baby_position = lambda df: (\n",
    "                df[\"TPAPRESENT\"]\n",
    "                .replace({\n",
    "                    1:\"cephalic\",\n",
    "                    2:\"pelvic_or_podalic\",\n",
    "                    3:\"transverse\",\n",
    "                    9:np.nan                    \n",
    "                })\n",
    "            ),\n",
    "            induced_labor = lambda df: (\n",
    "                df[\"STTRABPART\"]\n",
    "                .replace({\n",
    "                    1:\"yes\",\n",
    "                    2:\"no\",\n",
    "                    3:\"do_not_apply\",\n",
    "                    9:np.nan                    \n",
    "                })\n",
    "            ),\n",
    "            dad_age = lambda df: (\n",
    "                pd.to_numeric(df[\"IDADEPAI\"], errors=\"coerce\")\n",
    "            )\n",
    "        )\n",
    "        .drop(columns=[\n",
    "            \"GESTACAO\", \"LOCNASC\", \"ESTCIVMAE\", \"ESCMAE\", \n",
    "            \"GRAVIDEZ\", \"PARTO\", \"CONSULTAS\", \"SEXO\",\n",
    "            \"IDANOMAL\", \"ESCMAE\", \"RACACORMAE\", \"TPAPRESENT\",\n",
    "            \"STTRABPART\", \"IDADEPAI\"\n",
    "        ])\n",
    "        .rename(columns={\n",
    "            \"QTDFILVIVO\":\"number_alive_children\",\n",
    "            \"QTDFILMORT\":\"number_dead_children\",\n",
    "            \"IDADEMAE\":\"mom_age\",\n",
    "            \"SEMAGESTAC\":\"gestational_week\", \n",
    "        })\n",
    "        .query(\"premature == 0 | premature == 1\")\n",
    "        .reset_index(drop=True)\n",
    "    )\n",
    "    \n",
    "    return cleaned_data"
   ]
  },
  {
   "cell_type": "code",
   "execution_count": 5,
   "metadata": {},
   "outputs": [],
   "source": [
    "def merge_geoses(data, geoses):\n",
    "    merged_data = (\n",
    "        data\n",
    "        .merge(\n",
    "            geoses[[\"MUNIC_CODE6\", \"GeoSES\", \"GeoSESed\", \"GeoSESpv\", \"GeoSESdp\", \"GeoSESwl\", \"GeoSESin\", \"GeoSESsg\"]],\n",
    "            left_on=\"CODMUNRES\",\n",
    "            right_on=\"MUNIC_CODE6\",\n",
    "            how=\"left\"\n",
    "        )\n",
    "        .drop(columns=[\"MUNIC_CODE6\", \"CODMUNRES\"])\n",
    "        .rename(columns={\n",
    "            \"GeoSES\":\"geoses\",\n",
    "            \"GeoSESed\":\"geoses_education\",\n",
    "            \"GeoSESpv\":\"geoses_poverty\",\n",
    "            \"GeoSESdp\":\"geoses_deprivation\",\n",
    "            \"GeoSESwl\":\"geoses_wealth\",\n",
    "            \"GeoSESin\":\"geoses_income\",\n",
    "            \"GeoSESsg\":\"geoses_segregation\"\n",
    "        })\n",
    "    )\n",
    "    return merged_data"
   ]
  },
  {
   "attachments": {},
   "cell_type": "markdown",
   "metadata": {},
   "source": [
    "### 1.2 - GeoSES"
   ]
  },
  {
   "cell_type": "code",
   "execution_count": 12,
   "metadata": {},
   "outputs": [],
   "source": [
    "df_geoses = pd.read_excel(\"./data/geoses/pone.0232074.s003.xls\", sheet_name=\"BR_variables\")"
   ]
  },
  {
   "attachments": {},
   "cell_type": "markdown",
   "metadata": {},
   "source": [
    "### 1.3 - SP - 2010 - 2020"
   ]
  },
  {
   "cell_type": "code",
   "execution_count": 6,
   "metadata": {},
   "outputs": [
    {
     "name": "stderr",
     "output_type": "stream",
     "text": [
      "C:\\Users\\drt61206\\AppData\\Local\\Temp/ipykernel_13832/4253760115.py:5: DtypeWarning: Columns (44) have mixed types.Specify dtype option on import or set low_memory=False.\n",
      "  df_sinasc_sp_raw = pd.concat([pd.read_csv(file, usecols=columns) for file in filelist]).reset_index(drop=True)\n"
     ]
    }
   ],
   "source": [
    "year_list = np.arange(2010, 2021)\n",
    "filelist = []\n",
    "for year in year_list:\n",
    "    filelist += glob.glob(f\"./data/sinasc/*SP_{year}_t.csv\")\n",
    "df_sinasc_sp_raw = pd.concat([pd.read_csv(file, usecols=columns) for file in filelist]).reset_index(drop=True)"
   ]
  },
  {
   "cell_type": "code",
   "execution_count": 9,
   "metadata": {},
   "outputs": [],
   "source": [
    "df_sinasc_sp_clean = clean_data(df_sinasc_sp_raw)"
   ]
  },
  {
   "cell_type": "code",
   "execution_count": 10,
   "metadata": {},
   "outputs": [],
   "source": [
    "del(df_sinasc_sp_raw)"
   ]
  },
  {
   "cell_type": "code",
   "execution_count": 13,
   "metadata": {},
   "outputs": [],
   "source": [
    "df_sinasc_sp_geoses = merge_geoses(df_sinasc_sp_clean, df_geoses)"
   ]
  },
  {
   "cell_type": "code",
   "execution_count": 16,
   "metadata": {},
   "outputs": [],
   "source": [
    "df_sinasc_sp_geoses[df_sinasc_sp_geoses.select_dtypes(\"object\").columns.tolist()] = df_sinasc_sp_geoses[df_sinasc_sp_geoses.select_dtypes(\"object\").columns.tolist()].astype(str)"
   ]
  },
  {
   "cell_type": "code",
   "execution_count": 19,
   "metadata": {},
   "outputs": [],
   "source": [
    "df_sinasc_sp_geoses.to_parquet(\"./data/sinasc_sp_10_a_20.parquet\", index=False)"
   ]
  },
  {
   "cell_type": "code",
   "execution_count": 20,
   "metadata": {},
   "outputs": [],
   "source": [
    "del(df_sinasc_sp_geoses, df_sinasc_sp_clean)"
   ]
  },
  {
   "attachments": {},
   "cell_type": "markdown",
   "metadata": {},
   "source": [
    "### 1.2 - Brazil - 2019, 2020"
   ]
  },
  {
   "cell_type": "code",
   "execution_count": 22,
   "metadata": {},
   "outputs": [],
   "source": [
    "df_sinasc_br_19_20_raw = (\n",
    "    pd.concat([\n",
    "        pd.read_csv(file, usecols=columns)\n",
    "        for file\n",
    "        in glob.glob(\"./data/sinasc/*2019_t.csv\") + glob.glob(\"./data/sinasc/*2020_t.csv\")\n",
    "    ])\n",
    "    .reset_index(drop=True)\n",
    ")"
   ]
  },
  {
   "cell_type": "code",
   "execution_count": 23,
   "metadata": {},
   "outputs": [],
   "source": [
    "df_sinasc_br_19_20_clean = clean_data(df_sinasc_br_19_20_raw)"
   ]
  },
  {
   "cell_type": "code",
   "execution_count": 24,
   "metadata": {},
   "outputs": [],
   "source": [
    "del(df_sinasc_br_19_20_raw)"
   ]
  },
  {
   "cell_type": "code",
   "execution_count": 25,
   "metadata": {},
   "outputs": [],
   "source": [
    "df_sinasc_br_geoses = merge_geoses(df_sinasc_br_19_20_clean, df_geoses)"
   ]
  },
  {
   "cell_type": "code",
   "execution_count": 26,
   "metadata": {},
   "outputs": [],
   "source": [
    "df_sinasc_br_geoses[df_sinasc_br_geoses.select_dtypes(\"object\").columns.tolist()] = df_sinasc_br_geoses[df_sinasc_br_geoses.select_dtypes(\"object\").columns.tolist()].astype(str)"
   ]
  },
  {
   "cell_type": "code",
   "execution_count": 27,
   "metadata": {},
   "outputs": [],
   "source": [
    "df_sinasc_br_geoses.to_parquet(\"./data/sinasc_br_19_20.parquet\", index=False)"
   ]
  },
  {
   "cell_type": "code",
   "execution_count": null,
   "metadata": {},
   "outputs": [],
   "source": []
  }
 ],
 "metadata": {
  "kernelspec": {
   "display_name": "base",
   "language": "python",
   "name": "python3"
  },
  "language_info": {
   "codemirror_mode": {
    "name": "ipython",
    "version": 3
   },
   "file_extension": ".py",
   "mimetype": "text/x-python",
   "name": "python",
   "nbconvert_exporter": "python",
   "pygments_lexer": "ipython3",
   "version": "3.9.7 (default, Sep 16 2021, 16:59:28) [MSC v.1916 64 bit (AMD64)]"
  },
  "orig_nbformat": 4,
  "vscode": {
   "interpreter": {
    "hash": "1f3ee5661891bc46552a6b5221d4af10a382c25c5ed4df882c39e6ba03a10999"
   }
  }
 },
 "nbformat": 4,
 "nbformat_minor": 2
}
